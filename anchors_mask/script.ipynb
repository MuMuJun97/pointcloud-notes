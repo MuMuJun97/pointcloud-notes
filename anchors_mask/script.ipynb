{
 "cells": [
  {
   "cell_type": "code",
   "execution_count": 3,
   "metadata": {},
   "outputs": [],
   "source": [
    "import numpy as np \n",
    "from ops import points_to_voxel\n",
    "from tools import load \n",
    "import time \n",
    "import anchors_mask"
   ]
  },
  {
   "cell_type": "code",
   "execution_count": 6,
   "metadata": {},
   "outputs": [],
   "source": [
    "points,p2,rect,Trv2c,image_shape,annos = load()\n",
    "#params\n",
    "point_cloud_range = [0, -40, -3, 70.4, 40, 3]\n",
    "voxel_size = [0.16, 0.16, 2]\n",
    "max_num_points = 35\n",
    "max_voxels = 12000\n",
    "\n",
    "#process\n",
    "point_cloud_range = np.array(point_cloud_range, dtype=np.float32)\n",
    "voxel_size = np.array(voxel_size, dtype=np.float32)\n",
    "grid_size = (point_cloud_range[3:] - point_cloud_range[:3]) / voxel_size\n",
    "# grid_size = np.round(grid_size).astype(np.int32)\n",
    "grid_size = np.round(grid_size, 0, grid_size).astype(np.int32)\n",
    "\n",
    "voxels,coors,num_points = points_to_voxel(points,\n",
    "                            voxel_size,\n",
    "                            point_cloud_range,\n",
    "                            max_num_points,\n",
    "                            False,\n",
    "                            max_voxels)"
   ]
  },
  {
   "cell_type": "code",
   "execution_count": 9,
   "metadata": {},
   "outputs": [
    {
     "name": "stdout",
     "output_type": "stream",
     "text": [
      "coors.shape  \t\t   ==> (5785, 3)\n"
     ]
    },
    {
     "data": {
      "text/plain": [
       "array([390, 250,   2], dtype=int32)"
      ]
     },
     "execution_count": 9,
     "metadata": {},
     "output_type": "execute_result"
    }
   ],
   "source": [
    "print('coors.shape  \\t\\t   ==>',coors.shape)\n",
    "coors[0]"
   ]
  },
  {
   "cell_type": "code",
   "execution_count": 28,
   "metadata": {},
   "outputs": [
    {
     "data": {
      "text/plain": [
       "array([[ -0.6       , -41.75      ,   1.        , -37.85      ],\n",
       "       [ -1.75      , -40.6       ,   2.15      , -39.        ],\n",
       "       [ -0.19999999, -41.75      ,   1.4000001 , -37.85      ],\n",
       "       ...,\n",
       "       [ 67.85      ,  39.        ,  71.74999   ,  40.6       ],\n",
       "       [ 69.399994  ,  37.85      ,  71.        ,  41.75      ],\n",
       "       [ 68.25      ,  39.        ,  72.149994  ,  40.6       ]],\n",
       "      dtype=float32)"
      ]
     },
     "execution_count": 28,
     "metadata": {},
     "output_type": "execute_result"
    }
   ],
   "source": [
    "\n",
    "def create_anchors_3d_stride(feature_size,\n",
    "                             sizes=[1.6, 3.9, 1.56],\n",
    "                             anchor_strides=[0.4, 0.4, 0.0],\n",
    "                             anchor_offsets=[0.2, -39.8, -1.78],\n",
    "                             rotations=[0, np.pi / 2],\n",
    "                             dtype=np.float32):\n",
    "    \"\"\"\n",
    "    Args:\n",
    "        feature_size: list [D, H, W](zyx)\n",
    "        sizes: [N, 3] list of list or array, size of anchors, xyz\n",
    "\n",
    "    Returns:\n",
    "        anchors: [*feature_size, num_sizes, num_rots, 7] tensor.\n",
    "    \"\"\"\n",
    "    # almost 2x faster than v1\n",
    "    x_stride, y_stride, z_stride = anchor_strides\n",
    "    x_offset, y_offset, z_offset = anchor_offsets\n",
    "    z_centers = np.arange(feature_size[0], dtype=dtype)\n",
    "    y_centers = np.arange(feature_size[1], dtype=dtype)\n",
    "    x_centers = np.arange(feature_size[2], dtype=dtype)\n",
    "    z_centers = z_centers * z_stride + z_offset\n",
    "    y_centers = y_centers * y_stride + y_offset\n",
    "    x_centers = x_centers * x_stride + x_offset\n",
    "    sizes = np.reshape(np.array(sizes, dtype=dtype), [-1, 3])\n",
    "    rotations = np.array(rotations, dtype=dtype)\n",
    "    rets = np.meshgrid(\n",
    "        x_centers, y_centers, z_centers, rotations, indexing='ij')\n",
    "    tile_shape = [1] * 5\n",
    "    tile_shape[-2] = int(sizes.shape[0])\n",
    "    for i in range(len(rets)):\n",
    "        rets[i] = np.tile(rets[i][..., np.newaxis, :], tile_shape)\n",
    "        rets[i] = rets[i][..., np.newaxis]  # for concat\n",
    "    sizes = np.reshape(sizes, [1, 1, 1, -1, 1, 3])\n",
    "    tile_size_shape = list(rets[0].shape)\n",
    "    tile_size_shape[3] = 1\n",
    "    sizes = np.tile(sizes, tile_size_shape)\n",
    "    rets.insert(3, sizes)\n",
    "    ret = np.concatenate(rets, axis=-1)\n",
    "    return np.transpose(ret, [2, 1, 0, 3, 4, 5]).reshape(-1,7)\n",
    "\n",
    "################################\n",
    "#########anchors_bv#############\n",
    "################################\n",
    "\n",
    "def rbbox2d_to_near_bbox(rbboxes):\n",
    "    \"\"\"convert rotated bbox to nearest 'standing' or 'lying' bbox.\n",
    "    Args:\n",
    "        rbboxes: [N, 5(x, y, xdim, ydim, rad)] rotated bboxes\n",
    "    Returns:\n",
    "        bboxes: [N, 4(xmin, ymin, xmax, ymax)] bboxes\n",
    "    \"\"\"\n",
    "    rots = rbboxes[..., -1]\n",
    "    rots_0_pi_div_2 = np.abs(limit_period(rots, 0.5, np.pi))\n",
    "    cond = (rots_0_pi_div_2 > np.pi / 4)[..., np.newaxis]\n",
    "    bboxes_center = np.where(cond, rbboxes[:, [0, 1, 3, 2]], rbboxes[:, :4])\n",
    "    bboxes = center_to_minmax_2d(bboxes_center[:, :2], bboxes_center[:, 2:])\n",
    "    return bboxes\n",
    "\n",
    "\n",
    "def limit_period(val, offset=0.5, period=np.pi):\n",
    "    return val - np.floor(val / period + offset) * period\n",
    "\n",
    "\n",
    "def center_to_minmax_2d(centers, dims, origin=0.5):\n",
    "    if origin == 0.5:\n",
    "        return center_to_minmax_2d_0_5(centers, dims)\n",
    "    corners = center_to_corner_box2d(centers, dims, origin=origin)\n",
    "    return corners[:, [0, 2]].reshape([-1, 4])\n",
    "\n",
    "\n",
    "def center_to_minmax_2d_0_5(centers, dims):\n",
    "    return np.concatenate([centers - dims / 2, centers + dims / 2], axis=-1)\n",
    "\n",
    "def center_to_corner_box2d(centers, dims, angles=None, origin=0.5):\n",
    "    \"\"\"convert kitti locations, dimensions and angles to corners.\n",
    "    format: center(xy), dims(xy), angles(clockwise when positive)\n",
    "    \n",
    "    Args:\n",
    "        centers (float array, shape=[N, 2]): locations in kitti label file.\n",
    "        dims (float array, shape=[N, 2]): dimensions in kitti label file.\n",
    "        angles (float array, shape=[N]): rotation_y in kitti label file.\n",
    "    \n",
    "    Returns:\n",
    "        [type]: [description]\n",
    "    \"\"\"\n",
    "    # 'length' in kitti format is in x axis.\n",
    "    # xyz(hwl)(kitti label file)<->xyz(lhw)(camera)<->z(-x)(-y)(wlh)(lidar)\n",
    "    # center in kitti format is [0.5, 1.0, 0.5] in xyz.\n",
    "    corners = corners_nd(dims, origin=origin)\n",
    "    # corners: [N, 4, 2]\n",
    "    if angles is not None:\n",
    "        corners = rotation_2d(corners, angles)\n",
    "    corners += centers.reshape([-1, 1, 2])\n",
    "    return corners\n",
    "\n",
    "feature_size =  [1,200,176]\n",
    "unmatch_threshold=-1\n",
    "dtype = np.float32\n",
    "ret = create_anchors_3d_stride(feature_size)\n",
    "anchors = ret.reshape([-1, 7])\n",
    "anchors_bv = rbbox2d_to_near_bbox(anchors[:, [0, 1, 3, 4, 6]])\n",
    "anchors_bv"
   ]
  },
  {
   "cell_type": "code",
   "execution_count": 16,
   "metadata": {},
   "outputs": [
    {
     "name": "stdout",
     "output_type": "stream",
     "text": [
      "anchors shape\t\t ===> : (70400, 7)\n",
      "anchors_bv shape \t\t: (70400, 4)\n"
     ]
    }
   ],
   "source": [
    "print('anchors shape\\t\\t ===> :',anchors.shape)\n",
    "print('anchors_bv shape \\t\\t:',anchors_bv.shape)"
   ]
  },
  {
   "cell_type": "code",
   "execution_count": 19,
   "metadata": {},
   "outputs": [],
   "source": [
    "coords = coors\n",
    "shape = tuple(grid_size[::-1][1:])\n",
    "ret = np.zeros(shape,dtype=np.float32)\n",
    "\n",
    "\n",
    "dense_voxel_map = anchors_mask.sparse_sum_for_anchors_mask(\n",
    "    coords, ret)\n",
    "\n",
    "dense_voxel_map = dense_voxel_map.cumsum(0)\n",
    "dense_voxel_map = dense_voxel_map.cumsum(1)"
   ]
  },
  {
   "cell_type": "code",
   "execution_count": 20,
   "metadata": {},
   "outputs": [
    {
     "data": {
      "text/plain": [
       "array([[   0.,    0.,    0., ...,    0.,    0.,    0.],\n",
       "       [   0.,    0.,    0., ...,    0.,    0.,    0.],\n",
       "       [   0.,    0.,    0., ...,    0.,    0.,    0.],\n",
       "       ...,\n",
       "       [3269., 5551., 5785., ..., 5785., 5785., 5785.],\n",
       "       [3269., 5551., 5785., ..., 5785., 5785., 5785.],\n",
       "       [3269., 5551., 5785., ..., 5785., 5785., 5785.]], dtype=float32)"
      ]
     },
     "execution_count": 20,
     "metadata": {},
     "output_type": "execute_result"
    }
   ],
   "source": [
    "dense_voxel_map"
   ]
  },
  {
   "cell_type": "code",
   "execution_count": 21,
   "metadata": {},
   "outputs": [],
   "source": [
    "pc_range = point_cloud_range\n",
    "anchors_area = anchors_mask.fused_get_anchors_area(dense_voxel_map, anchors_bv, voxel_size, pc_range, grid_size)"
   ]
  },
  {
   "cell_type": "code",
   "execution_count": 24,
   "metadata": {},
   "outputs": [
    {
     "data": {
      "text/plain": [
       "959.0"
      ]
     },
     "execution_count": 24,
     "metadata": {},
     "output_type": "execute_result"
    }
   ],
   "source": [
    "anchors_area.max()"
   ]
  },
  {
   "cell_type": "code",
   "execution_count": 26,
   "metadata": {},
   "outputs": [
    {
     "data": {
      "text/plain": [
       "101926.0"
      ]
     },
     "execution_count": 26,
     "metadata": {},
     "output_type": "execute_result"
    }
   ],
   "source": [
    "anchors_area.sum()"
   ]
  },
  {
   "cell_type": "code",
   "execution_count": 48,
   "metadata": {},
   "outputs": [
    {
     "data": {
      "text/plain": [
       "(70400,)"
      ]
     },
     "execution_count": 48,
     "metadata": {},
     "output_type": "execute_result"
    }
   ],
   "source": [
    "anchors_mask = anchors_area>=1\n",
    "anchors_mask.shape"
   ]
  },
  {
   "cell_type": "code",
   "execution_count": 49,
   "metadata": {},
   "outputs": [
    {
     "data": {
      "text/plain": [
       "655"
      ]
     },
     "execution_count": 49,
     "metadata": {},
     "output_type": "execute_result"
    }
   ],
   "source": [
    "anchors_mask.sum()"
   ]
  },
  {
   "cell_type": "code",
   "execution_count": 57,
   "metadata": {},
   "outputs": [],
   "source": [
    "sums = 0\n",
    "for i in range(len(num_points)):\n",
    "    if num_points[i] ==7:\n",
    "        sums +=1"
   ]
  },
  {
   "cell_type": "code",
   "execution_count": 58,
   "metadata": {},
   "outputs": [
    {
     "data": {
      "text/plain": [
       "256"
      ]
     },
     "execution_count": 58,
     "metadata": {},
     "output_type": "execute_result"
    }
   ],
   "source": [
    "sums"
   ]
  },
  {
   "cell_type": "code",
   "execution_count": 54,
   "metadata": {},
   "outputs": [
    {
     "data": {
      "text/plain": [
       "5785"
      ]
     },
     "execution_count": 54,
     "metadata": {},
     "output_type": "execute_result"
    }
   ],
   "source": [
    "len(num_points)"
   ]
  },
  {
   "cell_type": "code",
   "execution_count": 60,
   "metadata": {},
   "outputs": [
    {
     "data": {
      "text/plain": [
       "35"
      ]
     },
     "execution_count": 60,
     "metadata": {},
     "output_type": "execute_result"
    }
   ],
   "source": [
    "num_points.max()"
   ]
  },
  {
   "cell_type": "code",
   "execution_count": null,
   "metadata": {},
   "outputs": [],
   "source": []
  }
 ],
 "metadata": {
  "kernelspec": {
   "display_name": "Python 3.7.4 64-bit ('base': conda)",
   "language": "python",
   "name": "python37464bitbaseconda89fd59a57aa24aabb44662810809c441"
  },
  "language_info": {
   "codemirror_mode": {
    "name": "ipython",
    "version": 3
   },
   "file_extension": ".py",
   "mimetype": "text/x-python",
   "name": "python",
   "nbconvert_exporter": "python",
   "pygments_lexer": "ipython3",
   "version": "3.7.4"
  }
 },
 "nbformat": 4,
 "nbformat_minor": 2
}
