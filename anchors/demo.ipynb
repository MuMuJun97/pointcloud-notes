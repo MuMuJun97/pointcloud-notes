{
 "cells": [
  {
   "cell_type": "code",
   "execution_count": 1,
   "metadata": {},
   "outputs": [],
   "source": [
    "import numpy as np \n",
    "def create_anchors_3d_stride(feature_size,\n",
    "                             sizes=[1.6, 3.9, 1.56],\n",
    "                             anchor_strides=[0.4, 0.4, 0.0],\n",
    "                             anchor_offsets=[0.2, -39.8, -1.78],\n",
    "                             rotations=[0, np.pi / 2],\n",
    "                             dtype=np.float32):\n",
    "    \"\"\"\n",
    "    Args:\n",
    "        feature_size: list [D, H, W](zyx)\n",
    "        sizes: [N, 3] list of list or array, size of anchors, xyz\n",
    "\n",
    "    Returns:\n",
    "        anchors: [*feature_size, num_sizes, num_rots, 7] tensor.\n",
    "    \"\"\"\n",
    "    # almost 2x faster than v1\n",
    "    x_stride, y_stride, z_stride = anchor_strides\n",
    "    x_offset, y_offset, z_offset = anchor_offsets\n",
    "    z_centers = np.arange(feature_size[0], dtype=dtype)\n",
    "    y_centers = np.arange(feature_size[1], dtype=dtype)\n",
    "    x_centers = np.arange(feature_size[2], dtype=dtype)\n",
    "    z_centers = z_centers * z_stride + z_offset\n",
    "    y_centers = y_centers * y_stride + y_offset\n",
    "    x_centers = x_centers * x_stride + x_offset\n",
    "    sizes = np.reshape(np.array(sizes, dtype=dtype), [-1, 3])\n",
    "    rotations = np.array(rotations, dtype=dtype)\n",
    "    rets = np.meshgrid(\n",
    "        x_centers, y_centers, z_centers, rotations, indexing='ij')\n",
    "    tile_shape = [1] * 5\n",
    "    tile_shape[-2] = int(sizes.shape[0])\n",
    "    for i in range(len(rets)):\n",
    "        rets[i] = np.tile(rets[i][..., np.newaxis, :], tile_shape)\n",
    "        rets[i] = rets[i][..., np.newaxis]  # for concat\n",
    "    sizes = np.reshape(sizes, [1, 1, 1, -1, 1, 3])\n",
    "    tile_size_shape = list(rets[0].shape)\n",
    "    tile_size_shape[3] = 1\n",
    "    sizes = np.tile(sizes, tile_size_shape)\n",
    "    rets.insert(3, sizes)\n",
    "    ret = np.concatenate(rets, axis=-1)\n",
    "    return np.transpose(ret, [2, 1, 0, 3, 4, 5])\n"
   ]
  },
  {
   "cell_type": "code",
   "execution_count": 6,
   "metadata": {},
   "outputs": [],
   "source": [
    "    feature_size =  [1,200,176]\n",
    "    sizes=[1.6, 3.9, 1.56]\n",
    "    anchor_strides=[0.4, 0.4, 1.0]\n",
    "    anchor_offsets=[0.2, -39.8, -1.78]\n",
    "    rotations=[0, np.pi / 2]\n",
    "    class_id=None\n",
    "    match_threshold=-1\n",
    "    unmatch_threshold=-1\n",
    "    dtype = np.float32"
   ]
  },
  {
   "cell_type": "code",
   "execution_count": 7,
   "metadata": {},
   "outputs": [],
   "source": [
    "    x_stride, y_stride, z_stride = anchor_strides\n",
    "    x_offset, y_offset, z_offset = anchor_offsets\n",
    "    z_centers = np.arange(feature_size[0], dtype=dtype)\n",
    "    y_centers = np.arange(feature_size[1], dtype=dtype)\n",
    "    x_centers = np.arange(feature_size[2], dtype=dtype)\n",
    "    z_centers = z_centers * z_stride + z_offset\n",
    "    y_centers = y_centers * y_stride + y_offset\n",
    "    x_centers = x_centers * x_stride + x_offset"
   ]
  },
  {
   "cell_type": "code",
   "execution_count": 14,
   "metadata": {},
   "outputs": [
    {
     "output_type": "execute_result",
     "data": {
      "text/plain": "(176,)"
     },
     "metadata": {},
     "execution_count": 14
    }
   ],
   "source": [
    "x_centers.shape"
   ]
  },
  {
   "cell_type": "code",
   "execution_count": 15,
   "metadata": {},
   "outputs": [],
   "source": [
    "    sizes = np.reshape(np.array(sizes, dtype=dtype), [-1, 3])\n",
    "    rotations = np.array(rotations, dtype=dtype)\n",
    "    rets = np.meshgrid(\n",
    "        x_centers, y_centers, z_centers, rotations, indexing='ij')\n",
    "    tile_shape = [1] * 5\n",
    "    tile_shape[-2] = int(sizes.shape[0])"
   ]
  },
  {
   "cell_type": "code",
   "execution_count": 22,
   "metadata": {},
   "outputs": [
    {
     "output_type": "execute_result",
     "data": {
      "text/plain": "(176, 200, 1, 2)"
     },
     "metadata": {},
     "execution_count": 22
    }
   ],
   "source": [
    "rets[3].shape"
   ]
  },
  {
   "cell_type": "code",
   "execution_count": 24,
   "metadata": {},
   "outputs": [],
   "source": [
    "for i in range(len(rets)):\n",
    "    rets[i] = np.tile(rets[i][..., np.newaxis, :], tile_shape)\n",
    "    rets[i] = rets[i][..., np.newaxis]  # for concat"
   ]
  },
  {
   "cell_type": "code",
   "execution_count": 25,
   "metadata": {},
   "outputs": [
    {
     "output_type": "execute_result",
     "data": {
      "text/plain": "(176, 200, 1, 1, 2, 1)"
     },
     "metadata": {},
     "execution_count": 25
    }
   ],
   "source": [
    "rets[0].shape"
   ]
  },
  {
   "cell_type": "code",
   "execution_count": 27,
   "metadata": {},
   "outputs": [],
   "source": [
    "sizes = np.reshape(sizes, [1, 1, 1, -1, 1, 3])\n",
    "tile_size_shape = list(rets[0].shape)\n",
    "tile_size_shape[3] = 1\n",
    "sizes = np.tile(sizes, tile_size_shape)"
   ]
  },
  {
   "cell_type": "code",
   "execution_count": 28,
   "metadata": {},
   "outputs": [
    {
     "output_type": "execute_result",
     "data": {
      "text/plain": "(176, 200, 1, 1, 2, 3)"
     },
     "metadata": {},
     "execution_count": 28
    }
   ],
   "source": [
    "sizes.shape"
   ]
  },
  {
   "cell_type": "code",
   "execution_count": 29,
   "metadata": {},
   "outputs": [],
   "source": [
    "rets.insert(3, sizes)"
   ]
  },
  {
   "cell_type": "code",
   "execution_count": 31,
   "metadata": {},
   "outputs": [
    {
     "output_type": "execute_result",
     "data": {
      "text/plain": "5"
     },
     "metadata": {},
     "execution_count": 31
    }
   ],
   "source": [
    "len(rets)"
   ]
  },
  {
   "cell_type": "code",
   "execution_count": 34,
   "metadata": {},
   "outputs": [
    {
     "output_type": "execute_result",
     "data": {
      "text/plain": "(176, 200, 1, 1, 2, 3)"
     },
     "metadata": {},
     "execution_count": 34
    }
   ],
   "source": [
    "rets[3].shape"
   ]
  },
  {
   "cell_type": "code",
   "execution_count": 35,
   "metadata": {},
   "outputs": [],
   "source": [
    "ret = np.concatenate(rets, axis=-1)"
   ]
  },
  {
   "cell_type": "code",
   "execution_count": 36,
   "metadata": {},
   "outputs": [],
   "source": [
    "ret = np.transpose(ret, [2, 1, 0, 3, 4, 5])"
   ]
  },
  {
   "cell_type": "code",
   "execution_count": 37,
   "metadata": {},
   "outputs": [
    {
     "output_type": "execute_result",
     "data": {
      "text/plain": "(1, 200, 176, 1, 2, 7)"
     },
     "metadata": {},
     "execution_count": 37
    }
   ],
   "source": [
    "ret.shape"
   ]
  },
  {
   "cell_type": "code",
   "execution_count": 39,
   "metadata": {},
   "outputs": [
    {
     "output_type": "execute_result",
     "data": {
      "text/plain": "(200, 176, 1, 2, 7)"
     },
     "metadata": {},
     "execution_count": 39
    }
   ],
   "source": [
    "ret[0].shape"
   ]
  },
  {
   "cell_type": "code",
   "execution_count": 40,
   "metadata": {},
   "outputs": [
    {
     "output_type": "execute_result",
     "data": {
      "text/plain": "array([  0.2 , -39.8 ,  -1.78,   1.6 ,   3.9 ,   1.56,   0.  ],\n      dtype=float32)"
     },
     "metadata": {},
     "execution_count": 40
    }
   ],
   "source": [
    "ret[0][0,0,0,0,:]"
   ]
  },
  {
   "cell_type": "code",
   "execution_count": 41,
   "metadata": {},
   "outputs": [
    {
     "output_type": "execute_result",
     "data": {
      "text/plain": "array([0.2, 0.2], dtype=float32)"
     },
     "metadata": {},
     "execution_count": 41
    }
   ],
   "source": [
    "ret[0][0,0,0,:,0]"
   ]
  },
  {
   "cell_type": "code",
   "execution_count": 42,
   "metadata": {},
   "outputs": [
    {
     "output_type": "execute_result",
     "data": {
      "text/plain": "array([0.2, 0.2, 0.2, 0.2, 0.2, 0.2, 0.2, 0.2, 0.2, 0.2, 0.2, 0.2, 0.2,\n       0.2, 0.2, 0.2, 0.2, 0.2, 0.2, 0.2, 0.2, 0.2, 0.2, 0.2, 0.2, 0.2,\n       0.2, 0.2, 0.2, 0.2, 0.2, 0.2, 0.2, 0.2, 0.2, 0.2, 0.2, 0.2, 0.2,\n       0.2, 0.2, 0.2, 0.2, 0.2, 0.2, 0.2, 0.2, 0.2, 0.2, 0.2, 0.2, 0.2,\n       0.2, 0.2, 0.2, 0.2, 0.2, 0.2, 0.2, 0.2, 0.2, 0.2, 0.2, 0.2, 0.2,\n       0.2, 0.2, 0.2, 0.2, 0.2, 0.2, 0.2, 0.2, 0.2, 0.2, 0.2, 0.2, 0.2,\n       0.2, 0.2, 0.2, 0.2, 0.2, 0.2, 0.2, 0.2, 0.2, 0.2, 0.2, 0.2, 0.2,\n       0.2, 0.2, 0.2, 0.2, 0.2, 0.2, 0.2, 0.2, 0.2, 0.2, 0.2, 0.2, 0.2,\n       0.2, 0.2, 0.2, 0.2, 0.2, 0.2, 0.2, 0.2, 0.2, 0.2, 0.2, 0.2, 0.2,\n       0.2, 0.2, 0.2, 0.2, 0.2, 0.2, 0.2, 0.2, 0.2, 0.2, 0.2, 0.2, 0.2,\n       0.2, 0.2, 0.2, 0.2, 0.2, 0.2, 0.2, 0.2, 0.2, 0.2, 0.2, 0.2, 0.2,\n       0.2, 0.2, 0.2, 0.2, 0.2, 0.2, 0.2, 0.2, 0.2, 0.2, 0.2, 0.2, 0.2,\n       0.2, 0.2, 0.2, 0.2, 0.2, 0.2, 0.2, 0.2, 0.2, 0.2, 0.2, 0.2, 0.2,\n       0.2, 0.2, 0.2, 0.2, 0.2, 0.2, 0.2, 0.2, 0.2, 0.2, 0.2, 0.2, 0.2,\n       0.2, 0.2, 0.2, 0.2, 0.2, 0.2, 0.2, 0.2, 0.2, 0.2, 0.2, 0.2, 0.2,\n       0.2, 0.2, 0.2, 0.2, 0.2], dtype=float32)"
     },
     "metadata": {},
     "execution_count": 42
    }
   ],
   "source": [
    "ret[0][:,0,0,0,0]"
   ]
  },
  {
   "cell_type": "code",
   "execution_count": 43,
   "metadata": {},
   "outputs": [
    {
     "output_type": "execute_result",
     "data": {
      "text/plain": "array([ 0.2      ,  0.6      ,  1.       ,  1.4000001,  1.8000001,\n        2.2      ,  2.6000001,  3.       ,  3.4      ,  3.8000002,\n        4.2      ,  4.6      ,  5.       ,  5.4      ,  5.7999997,\n        6.2      ,  6.6      ,  7.       ,  7.4      ,  7.7999997,\n        8.2      ,  8.6      ,  9.       ,  9.4      ,  9.8      ,\n       10.2      , 10.6      , 11.       , 11.4      , 11.8      ,\n       12.2      , 12.6      , 13.       , 13.4      , 13.8      ,\n       14.2      , 14.6      , 15.       , 15.4      , 15.8      ,\n       16.2      , 16.6      , 17.000002 , 17.400002 , 17.800001 ,\n       18.2      , 18.6      , 19.000002 , 19.400002 , 19.800001 ,\n       20.2      , 20.6      , 21.000002 , 21.400002 , 21.800001 ,\n       22.2      , 22.6      , 23.000002 , 23.400002 , 23.800001 ,\n       24.2      , 24.6      , 25.000002 , 25.400002 , 25.800001 ,\n       26.2      , 26.6      , 27.000002 , 27.400002 , 27.800001 ,\n       28.2      , 28.6      , 29.000002 , 29.400002 , 29.800001 ,\n       30.2      , 30.6      , 31.000002 , 31.400002 , 31.800001 ,\n       32.2      , 32.600002 , 33.       , 33.4      , 33.800003 ,\n       34.2      , 34.600002 , 35.       , 35.4      , 35.800003 ,\n       36.2      , 36.600002 , 37.       , 37.4      , 37.800003 ,\n       38.2      , 38.600002 , 39.       , 39.4      , 39.800003 ,\n       40.2      , 40.600002 , 41.       , 41.4      , 41.800003 ,\n       42.2      , 42.600002 , 43.       , 43.4      , 43.800003 ,\n       44.2      , 44.600002 , 45.       , 45.4      , 45.800003 ,\n       46.2      , 46.600002 , 47.       , 47.4      , 47.800003 ,\n       48.2      , 48.600002 , 49.       , 49.4      , 49.800003 ,\n       50.2      , 50.600002 , 51.       , 51.4      , 51.800003 ,\n       52.2      , 52.600002 , 53.       , 53.4      , 53.800003 ,\n       54.2      , 54.600002 , 55.       , 55.4      , 55.800003 ,\n       56.2      , 56.600002 , 57.       , 57.4      , 57.800003 ,\n       58.2      , 58.600002 , 59.       , 59.4      , 59.800003 ,\n       60.2      , 60.600002 , 61.       , 61.4      , 61.800003 ,\n       62.2      , 62.600002 , 63.       , 63.4      , 63.800003 ,\n       64.2      , 64.6      , 65.       , 65.4      , 65.799995 ,\n       66.2      , 66.6      , 67.       , 67.4      , 67.799995 ,\n       68.2      , 68.6      , 69.       , 69.4      , 69.799995 ,\n       70.2      ], dtype=float32)"
     },
     "metadata": {},
     "execution_count": 43
    }
   ],
   "source": [
    "ret[0][0,:,0,0,0]"
   ]
  },
  {
   "cell_type": "code",
   "execution_count": 45,
   "metadata": {},
   "outputs": [],
   "source": [
    "anchors = ret.reshape([*ret.shape[:3], -1, 7])"
   ]
  },
  {
   "cell_type": "code",
   "execution_count": 46,
   "metadata": {},
   "outputs": [
    {
     "output_type": "execute_result",
     "data": {
      "text/plain": "(1, 200, 176, 2, 7)"
     },
     "metadata": {},
     "execution_count": 46
    }
   ],
   "source": [
    "anchors.shape"
   ]
  },
  {
   "cell_type": "code",
   "execution_count": 47,
   "metadata": {},
   "outputs": [],
   "source": [
    "# dataset.py ==> class KittiDataset(Dataset):\n",
    "anchors = anchors.reshape([-1, 7])\n",
    "# matched_thresholds = ret[\"matched_thresholds\"]\n",
    "# unmatched_thresholds = ret[\"unmatched_thresholds\"]"
   ]
  },
  {
   "cell_type": "code",
   "execution_count": 49,
   "metadata": {},
   "outputs": [
    {
     "output_type": "execute_result",
     "data": {
      "text/plain": "(70400, 7)"
     },
     "metadata": {},
     "execution_count": 49
    }
   ],
   "source": [
    "anchors.shape"
   ]
  },
  {
   "cell_type": "code",
   "execution_count": 51,
   "metadata": {},
   "outputs": [
    {
     "output_type": "execute_result",
     "data": {
      "text/plain": "array([  0.2      , -39.8      ,  -1.78     ,   1.6      ,   3.9      ,\n         1.56     ,   1.5707964], dtype=float32)"
     },
     "metadata": {},
     "execution_count": 51
    }
   ],
   "source": [
    "import vis "
   ]
  },
  {
   "cell_type": "code",
   "execution_count": null,
   "metadata": {},
   "outputs": [],
   "source": []
  },
  {
   "cell_type": "code",
   "execution_count": null,
   "metadata": {},
   "outputs": [],
   "source": []
  },
  {
   "cell_type": "code",
   "execution_count": null,
   "metadata": {},
   "outputs": [],
   "source": []
  },
  {
   "cell_type": "code",
   "execution_count": null,
   "metadata": {},
   "outputs": [],
   "source": []
  },
  {
   "cell_type": "code",
   "execution_count": null,
   "metadata": {},
   "outputs": [],
   "source": [
    "anchors_mask = None\n",
    "if anchor_area_threshold >= 0:\n",
    "    coors = coordinates\n",
    "    dense_voxel_map = box_np_ops.sparse_sum_for_anchors_mask(\n",
    "        coors, tuple(grid_size[::-1][1:]))\n",
    "    dense_voxel_map = dense_voxel_map.cumsum(0)\n",
    "    dense_voxel_map = dense_voxel_map.cumsum(1)\n",
    "    anchors_area = box_np_ops.fused_get_anchors_area(\n",
    "        dense_voxel_map, anchors_bv, voxel_size, pc_range, grid_size)\n",
    "    anchors_mask = anchors_area > anchor_area_threshold\n",
    "    # example['anchors_mask'] = anchors_mask.astype(np.uint8)\n",
    "    example['anchors_mask'] = anchors_mask"
   ]
  }
 ],
 "metadata": {
  "kernelspec": {
   "display_name": "Python 3.7.4 64-bit ('base': conda)",
   "language": "python",
   "name": "python37464bitbaseconda89fd59a57aa24aabb44662810809c441"
  },
  "language_info": {
   "codemirror_mode": {
    "name": "ipython",
    "version": 3
   },
   "file_extension": ".py",
   "mimetype": "text/x-python",
   "name": "python",
   "nbconvert_exporter": "python",
   "pygments_lexer": "ipython3",
   "version": "3.7.4-final"
  }
 },
 "nbformat": 4,
 "nbformat_minor": 2
}