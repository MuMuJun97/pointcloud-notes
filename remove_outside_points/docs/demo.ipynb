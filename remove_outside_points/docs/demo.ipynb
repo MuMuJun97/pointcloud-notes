{
 "cells": [
  {
   "cell_type": "code",
   "execution_count": 1,
   "metadata": {},
   "outputs": [],
   "source": [
    "import numpy as np\n",
    "import ops \n",
    "import v2"
   ]
  },
  {
   "cell_type": "code",
   "execution_count": 2,
   "metadata": {},
   "outputs": [],
   "source": [
    "points,p2,rect,Trv2c,image_shape,annos = v2.load()"
   ]
  },
  {
   "cell_type": "code",
   "execution_count": 4,
   "metadata": {},
   "outputs": [
    {
     "data": {
      "text/plain": [
       "(108348, 4)"
      ]
     },
     "execution_count": 4,
     "metadata": {},
     "output_type": "execute_result"
    }
   ],
   "source": [
    "points.shape"
   ]
  },
  {
   "cell_type": "code",
   "execution_count": 5,
   "metadata": {},
   "outputs": [
    {
     "data": {
      "text/plain": [
       "array([[7.215377e+02, 0.000000e+00, 6.095593e+02, 4.485728e+01],\n",
       "       [0.000000e+00, 7.215377e+02, 1.728540e+02, 2.163791e-01],\n",
       "       [0.000000e+00, 0.000000e+00, 1.000000e+00, 2.745884e-03],\n",
       "       [0.000000e+00, 0.000000e+00, 0.000000e+00, 1.000000e+00]])"
      ]
     },
     "execution_count": 5,
     "metadata": {},
     "output_type": "execute_result"
    }
   ],
   "source": [
    "p2"
   ]
  },
  {
   "cell_type": "code",
   "execution_count": 6,
   "metadata": {},
   "outputs": [
    {
     "data": {
      "text/plain": [
       "array([[ 0.9999239 ,  0.00983776, -0.00744505,  0.        ],\n",
       "       [-0.0098698 ,  0.9999421 , -0.00427846,  0.        ],\n",
       "       [ 0.00740253,  0.00435161,  0.9999631 ,  0.        ],\n",
       "       [ 0.        ,  0.        ,  0.        ,  1.        ]])"
      ]
     },
     "execution_count": 6,
     "metadata": {},
     "output_type": "execute_result"
    }
   ],
   "source": [
    "rect"
   ]
  },
  {
   "cell_type": "code",
   "execution_count": 7,
   "metadata": {},
   "outputs": [
    {
     "data": {
      "text/plain": [
       "array([[ 7.533745e-03, -9.999714e-01, -6.166020e-04, -4.069766e-03],\n",
       "       [ 1.480249e-02,  7.280733e-04, -9.998902e-01, -7.631618e-02],\n",
       "       [ 9.998621e-01,  7.523790e-03,  1.480755e-02, -2.717806e-01],\n",
       "       [ 0.000000e+00,  0.000000e+00,  0.000000e+00,  1.000000e+00]])"
      ]
     },
     "execution_count": 7,
     "metadata": {},
     "output_type": "execute_result"
    }
   ],
   "source": [
    "Trv2c"
   ]
  },
  {
   "cell_type": "code",
   "execution_count": 8,
   "metadata": {},
   "outputs": [
    {
     "data": {
      "text/plain": [
       "array([ 375, 1242], dtype=int32)"
      ]
     },
     "execution_count": 8,
     "metadata": {},
     "output_type": "execute_result"
    }
   ],
   "source": [
    "image_shape"
   ]
  },
  {
   "cell_type": "code",
   "execution_count": 9,
   "metadata": {},
   "outputs": [
    {
     "data": {
      "text/plain": [
       "{'name': array(['Car', 'Car', 'Car', 'Car', 'Van'], dtype='<U3'),\n",
       " 'truncated': array([0.  , 0.  , 0.99, 0.  , 0.  ]),\n",
       " 'occluded': array([0, 0, 1, 0, 2]),\n",
       " 'alpha': array([-1.75, -1.31, -2.37, -1.58, -1.24]),\n",
       " 'bbox': array([[ 683.34,  170.98,  803.44,  257.43],\n",
       "        [ 262.97,  182.23,  469.76,  318.  ],\n",
       "        [ 910.25,  159.81, 1241.  ,  374.  ],\n",
       "        [ 641.55,  172.79,  681.44,  206.29],\n",
       "        [ 683.63,  153.82,  724.01,  183.67]]),\n",
       " 'dimensions': array([[4.34, 1.49, 1.56],\n",
       "        [4.12, 1.42, 1.53],\n",
       "        [3.89, 1.59, 1.59],\n",
       "        [3.51, 1.38, 1.64],\n",
       "        [5.33, 2.59, 1.98]]),\n",
       " 'location': array([[ 2.51,  1.49, 14.75],\n",
       "        [-3.06,  1.56,  9.79],\n",
       "        [ 2.61,  1.55,  2.39],\n",
       "        [ 2.22,  1.4 , 31.72],\n",
       "        [ 8.59,  0.95, 65.64]]),\n",
       " 'rotation_y': array([-1.59, -1.61, -1.6 , -1.51, -1.11]),\n",
       " 'score': array([0., 0., 0., 0., 0.]),\n",
       " 'index': array([0, 1, 2, 3, 4], dtype=int32),\n",
       " 'group_ids': array([0, 1, 2, 3, 4], dtype=int32)}"
      ]
     },
     "execution_count": 9,
     "metadata": {},
     "output_type": "execute_result"
    }
   ],
   "source": [
    "annos"
   ]
  },
  {
   "cell_type": "code",
   "execution_count": 10,
   "metadata": {},
   "outputs": [],
   "source": [
    "gt_cam = annos['location']\n",
    "center_point = ops.camera_to_lidar(gt_cam,rect,Trv2c)\n",
    "np.savetxt('center_point.txt',center_point)"
   ]
  },
  {
   "cell_type": "code",
   "execution_count": 11,
   "metadata": {},
   "outputs": [
    {
     "data": {
      "text/plain": [
       "array([[15.03825643, -2.49425244, -1.43447899],\n",
       "       [10.0779512 ,  3.07555948, -1.49747116],\n",
       "       [ 2.67958218, -2.59515009, -1.62470683],\n",
       "       [32.00632071, -2.20310901, -1.16406688],\n",
       "       [65.92126071, -8.57328949, -0.42689766]])"
      ]
     },
     "execution_count": 11,
     "metadata": {},
     "output_type": "execute_result"
    }
   ],
   "source": [
    "center_point"
   ]
  },
  {
   "cell_type": "code",
   "execution_count": 52,
   "metadata": {},
   "outputs": [
    {
     "data": {
      "text/plain": [
       "array([[ 6.2427e+01,  3.2000e-02,  2.3200e+00,  0.0000e+00],\n",
       "       [ 6.2368e+01,  2.2800e-01,  2.3180e+00,  0.0000e+00],\n",
       "       [ 6.2375e+01,  4.2400e-01,  2.3180e+00,  0.0000e+00],\n",
       "       ...,\n",
       "       [ 3.5810e+00, -1.3470e+00, -1.6680e+00,  2.1000e-01],\n",
       "       [ 3.5330e+00, -1.3160e+00, -1.6420e+00,  7.0000e-02],\n",
       "       [ 3.6110e+00, -1.3390e+00, -1.6800e+00,  0.0000e+00]],\n",
       "      dtype=float32)"
      ]
     },
     "execution_count": 52,
     "metadata": {},
     "output_type": "execute_result"
    }
   ],
   "source": [
    "points"
   ]
  },
  {
   "cell_type": "code",
   "execution_count": 54,
   "metadata": {},
   "outputs": [],
   "source": [
    "w,h,l = annos['dimensions'][:,0],annos['dimensions'][:,1],annos['dimensions'][:,2]"
   ]
  },
  {
   "cell_type": "code",
   "execution_count": 56,
   "metadata": {},
   "outputs": [],
   "source": [
    "x,y,z = annos['location'][:,0],annos['location'][:,1],annos['location'][:,2]"
   ]
  },
  {
   "cell_type": "code",
   "execution_count": 57,
   "metadata": {},
   "outputs": [],
   "source": [
    "ry = annos['rotation_y']"
   ]
  },
  {
   "cell_type": "code",
   "execution_count": 59,
   "metadata": {},
   "outputs": [],
   "source": [
    "R = np.array([ [+np.cos(ry), 0, +np.sin(ry)],\n",
    "                 [0, 1,               0],\n",
    "                 [-np.sin(ry), 0, +np.cos(ry)] ] )"
   ]
  },
  {
   "cell_type": "code",
   "execution_count": 62,
   "metadata": {},
   "outputs": [
    {
     "ename": "ValueError",
     "evalue": "operands could not be broadcast together with shapes (5,8) (5,) (5,8) ",
     "output_type": "error",
     "traceback": [
      "\u001b[0;31m---------------------------------------------------------------------------\u001b[0m",
      "\u001b[0;31mValueError\u001b[0m                                Traceback (most recent call last)",
      "\u001b[0;32m<ipython-input-62-5461d77299b2>\u001b[0m in \u001b[0;36m<module>\u001b[0;34m\u001b[0m\n\u001b[1;32m      3\u001b[0m \u001b[0mz_corners\u001b[0m \u001b[0;34m=\u001b[0m \u001b[0mnp\u001b[0m\u001b[0;34m.\u001b[0m\u001b[0marray\u001b[0m\u001b[0;34m(\u001b[0m\u001b[0;34m[\u001b[0m\u001b[0;36m0\u001b[0m\u001b[0;34m,\u001b[0m \u001b[0;36m0\u001b[0m\u001b[0;34m,\u001b[0m \u001b[0;36m0\u001b[0m\u001b[0;34m,\u001b[0m \u001b[0mw\u001b[0m\u001b[0;34m,\u001b[0m \u001b[0mw\u001b[0m\u001b[0;34m,\u001b[0m \u001b[0mw\u001b[0m\u001b[0;34m,\u001b[0m \u001b[0mw\u001b[0m\u001b[0;34m,\u001b[0m \u001b[0;36m0\u001b[0m\u001b[0;34m]\u001b[0m\u001b[0;34m*\u001b[0m\u001b[0;36m5\u001b[0m\u001b[0;34m)\u001b[0m\u001b[0;34m.\u001b[0m\u001b[0mreshape\u001b[0m\u001b[0;34m(\u001b[0m\u001b[0;34m-\u001b[0m\u001b[0;36m1\u001b[0m\u001b[0;34m,\u001b[0m\u001b[0;36m8\u001b[0m\u001b[0;34m)\u001b[0m\u001b[0;31m# --w/2\u001b[0m\u001b[0;34m\u001b[0m\u001b[0;34m\u001b[0m\u001b[0m\n\u001b[1;32m      4\u001b[0m \u001b[0;34m\u001b[0m\u001b[0m\n\u001b[0;32m----> 5\u001b[0;31m \u001b[0mx_corners\u001b[0m \u001b[0;34m+=\u001b[0m \u001b[0;34m-\u001b[0m\u001b[0ml\u001b[0m\u001b[0;34m/\u001b[0m\u001b[0;36m2\u001b[0m\u001b[0;34m\u001b[0m\u001b[0;34m\u001b[0m\u001b[0m\n\u001b[0m\u001b[1;32m      6\u001b[0m \u001b[0my_corners\u001b[0m \u001b[0;34m+=\u001b[0m \u001b[0;34m-\u001b[0m\u001b[0mh\u001b[0m\u001b[0;34m\u001b[0m\u001b[0;34m\u001b[0m\u001b[0m\n\u001b[1;32m      7\u001b[0m \u001b[0mz_corners\u001b[0m \u001b[0;34m+=\u001b[0m \u001b[0;34m-\u001b[0m\u001b[0mw\u001b[0m\u001b[0;34m/\u001b[0m\u001b[0;36m2\u001b[0m\u001b[0;34m\u001b[0m\u001b[0;34m\u001b[0m\u001b[0m\n",
      "\u001b[0;31mValueError\u001b[0m: operands could not be broadcast together with shapes (5,8) (5,) (5,8) "
     ]
    }
   ],
   "source": [
    "corner_norm = np.array()\n",
    "\n",
    "\n",
    "\n",
    "x_corners = np.array([0, l, l, l, l, 0, 0, 0]*5).reshape(-1,8) # -l/2\n",
    "y_corners = np.array([0, 0, h, h, 0, 0, h, h]*5).reshape(-1,8) # -h\n",
    "z_corners = np.array([0, 0, 0, w, w, w, w, 0]*5).reshape(-1,8)# --w/2\n",
    "\n",
    "x_corners += -l/2\n",
    "y_corners += -h\n",
    "z_corners += -w/2"
   ]
  },
  {
   "cell_type": "code",
   "execution_count": 113,
   "metadata": {},
   "outputs": [],
   "source": [
    "corners_norm = np.array([0, 0, 0, 0, 0, 1, 0, 1, 0, 0, 1, 1, 1, 0, 0, 1, 0, 1, 1, 1, 0, 1, 1, 1], dtype=dims.dtype).reshape((8, 3))\n",
    "corners_norm = corners_norm[[0, 1, 3, 2, 4, 5, 7, 6]]\n",
    "whl = annos['dimensions']\n",
    "lhw = whl[:,[2,1,0]]\n",
    "whl = lhw\n",
    "corners = whl.reshape(-1,1,3) * corners_norm.reshape(1,-1,3)\n",
    "corners[:,:,0] -= whl[:,0].reshape(-1,1)/2\n",
    "corners[:,:,1] -= whl[:,1].reshape(-1,1)\n",
    "corners[:,:,2] -= whl[:,2].reshape(-1,1)/2\n"
   ]
  },
  {
   "cell_type": "code",
   "execution_count": 114,
   "metadata": {},
   "outputs": [],
   "source": [
    "\n",
    "corners += annos['location'].reshape([-1, 1, 3])"
   ]
  },
  {
   "cell_type": "code",
   "execution_count": 115,
   "metadata": {},
   "outputs": [],
   "source": [
    "corners = ops.camera_to_lidar(corners,rect,Trv2c)\n",
    "\n",
    "np.savetxt('corners.txt',corners.reshape(-1,3))"
   ]
  },
  {
   "cell_type": "code",
   "execution_count": 116,
   "metadata": {},
   "outputs": [
    {
     "data": {
      "text/plain": [
       "array([[0., 0., 0.],\n",
       "       [0., 0., 1.],\n",
       "       [0., 1., 1.],\n",
       "       [0., 1., 0.],\n",
       "       [1., 0., 0.],\n",
       "       [1., 0., 1.],\n",
       "       [1., 1., 1.],\n",
       "       [1., 1., 0.]])"
      ]
     },
     "execution_count": 116,
     "metadata": {},
     "output_type": "execute_result"
    }
   ],
   "source": [
    "corners_norm"
   ]
  },
  {
   "cell_type": "code",
   "execution_count": 117,
   "metadata": {},
   "outputs": [],
   "source": [
    "conrners_norm  = np.array([[0., 0., 0.],\n",
    "                               [0., 0., 1.],\n",
    "                               [0., 1., 1.],\n",
    "                               [0., 1., 0.],\n",
    "                               [1., 0., 0.],\n",
    "                               [1., 0., 1.],\n",
    "                               [1., 1., 1.],\n",
    "                               [1., 1., 0.]])"
   ]
  },
  {
   "cell_type": "code",
   "execution_count": 118,
   "metadata": {},
   "outputs": [
    {
     "data": {
      "text/plain": [
       "array([[0., 0., 0.],\n",
       "       [0., 0., 1.],\n",
       "       [0., 1., 1.],\n",
       "       [0., 1., 0.],\n",
       "       [1., 0., 0.],\n",
       "       [1., 0., 1.],\n",
       "       [1., 1., 1.],\n",
       "       [1., 1., 0.]])"
      ]
     },
     "execution_count": 118,
     "metadata": {},
     "output_type": "execute_result"
    }
   ],
   "source": [
    "conrners_norm"
   ]
  },
  {
   "cell_type": "code",
   "execution_count": 119,
   "metadata": {},
   "outputs": [],
   "source": [
    "import ops"
   ]
  },
  {
   "cell_type": "code",
   "execution_count": 3,
   "metadata": {},
   "outputs": [],
   "source": [
    "whl = annos['dimensions']\n",
    "loc = annos['location']\n",
    "convers = ops.label_to_lidar_3dbox(whl,loc ,rect,Trv2c)"
   ]
  },
  {
   "cell_type": "code",
   "execution_count": 7,
   "metadata": {},
   "outputs": [
    {
     "data": {
      "text/plain": [
       "array([[12.85262225, -1.73030821,  0.0409167 ],\n",
       "       [17.19238513, -1.72976846,  0.08627536],\n",
       "       [17.20795475, -1.71402609, -1.40356014],\n",
       "       [12.86819187, -1.71456583, -1.4489188 ],\n",
       "       [12.8529885 , -3.29022116,  0.02443767],\n",
       "       [17.19275138, -3.28968142,  0.06979633],\n",
       "       [17.20832099, -3.27393904, -1.42003917],\n",
       "       [12.86855812, -3.27447879, -1.46539783]])"
      ]
     },
     "execution_count": 7,
     "metadata": {},
     "output_type": "execute_result"
    }
   ],
   "source": [
    "convers[0]"
   ]
  },
  {
   "cell_type": "code",
   "execution_count": 50,
   "metadata": {},
   "outputs": [],
   "source": [
    "import numba\n",
    "def corner_to_surfaces_3d(corners):\n",
    "    \"\"\"convert 3d box corners from corner function above\n",
    "    to surfaces that normal vectors all direct to internal.\n",
    "\n",
    "    Args:\n",
    "        corners (float array, [N, 8, 3]): 3d box corners. \n",
    "    Returns:\n",
    "        surfaces (float array, [N, 6, 4, 3]): \n",
    "    \"\"\"\n",
    "    # box_corners: [N, 8, 3], must from corner functions in this module\n",
    "    surfaces = np.array([\n",
    "        [corners[:, 0], corners[:, 1], corners[:, 2], corners[:, 3]],\n",
    "        [corners[:, 7], corners[:, 6], corners[:, 5], corners[:, 4]],\n",
    "        [corners[:, 0], corners[:, 3], corners[:, 7], corners[:, 4]],\n",
    "        [corners[:, 1], corners[:, 5], corners[:, 6], corners[:, 2]],\n",
    "        [corners[:, 0], corners[:, 4], corners[:, 5], corners[:, 1]],\n",
    "        [corners[:, 3], corners[:, 2], corners[:, 6], corners[:, 7]],\n",
    "    ]).transpose([2, 0, 1, 3])\n",
    "    return surfaces\n",
    "\n",
    "\n",
    "def surface_equ_3d_jit(polygon_surfaces):\n",
    "    # return [a, b, c], d in ax+by+cz+d=0\n",
    "    # polygon_surfaces: [num_polygon, num_surfaces, num_points_of_polygon, 3]\n",
    "    surface_vec = polygon_surfaces[:, :, :2, :] - polygon_surfaces[:, :, 1:3, :]\n",
    "    # normal_vec: [..., 3]\n",
    "    normal_vec = np.cross(surface_vec[:, :, 0, :], surface_vec[:, :, 1, :])\n",
    "    # print(normal_vec.shape, points[..., 0, :].shape)\n",
    "    # d = -np.inner(normal_vec, points[..., 0, :])\n",
    "    d = np.einsum('aij, aij->ai', normal_vec, polygon_surfaces[:, :, 0, :])\n",
    "    return normal_vec, -d\n",
    "\n",
    "@numba.jit(nopython=False)\n",
    "def points_in_convex_polygon_3d_jit(points,\n",
    "                                    polygon_surfaces,\n",
    "                                    num_surfaces=None):\n",
    "    \"\"\"check points is in 3d convex polygons.\n",
    "    Args:\n",
    "        points: [num_points, 3] array.\n",
    "        polygon_surfaces: [num_polygon, max_num_surfaces, \n",
    "            max_num_points_of_surface, 3] \n",
    "            array. all surfaces' normal vector must direct to internal.\n",
    "            max_num_points_of_surface must at least 3.\n",
    "        num_surfaces: [num_polygon] array. indicate how many surfaces \n",
    "            a polygon contain\n",
    "    Returns:\n",
    "        [num_points, num_polygon] bool array.\n",
    "    \"\"\"\n",
    "    max_num_surfaces, max_num_points_of_surface = polygon_surfaces.shape[1:3]\n",
    "    num_points = points.shape[0]\n",
    "    num_polygons = polygon_surfaces.shape[0]\n",
    "    if num_surfaces is None:\n",
    "        num_surfaces = np.full((num_polygons,), 9999999, dtype=np.int64)\n",
    "    normal_vec, d = surface_equ_3d_jit(polygon_surfaces[:, :, :3, :])\n",
    "    # normal_vec: [num_polygon, max_num_surfaces, 3]\n",
    "    # d: [num_polygon, max_num_surfaces]\n",
    "    ret = np.ones((num_points, num_polygons), dtype=np.bool_)\n",
    "    sign = 0.0\n",
    "    for i in range(num_points):\n",
    "        for j in range(num_polygons):\n",
    "            for k in range(max_num_surfaces):\n",
    "                if k > num_surfaces[j]:\n",
    "                    break\n",
    "                sign = points[i, 0] * normal_vec[j, k, 0] \\\n",
    "                     + points[i, 1] * normal_vec[j, k, 1] \\\n",
    "                     + points[i, 2] * normal_vec[j, k, 2] + d[j, k]\n",
    "                if sign >= 0:\n",
    "                    ret[i, j] = False\n",
    "                    break\n",
    "    return ret"
   ]
  },
  {
   "cell_type": "code",
   "execution_count": 17,
   "metadata": {},
   "outputs": [
    {
     "data": {
      "text/plain": [
       "(5, 8, 3)"
      ]
     },
     "execution_count": 17,
     "metadata": {},
     "output_type": "execute_result"
    }
   ],
   "source": [
    "convers.shape"
   ]
  },
  {
   "cell_type": "code",
   "execution_count": 18,
   "metadata": {},
   "outputs": [],
   "source": [
    "surfaces = corner_to_surfaces_3d(convers)"
   ]
  },
  {
   "cell_type": "code",
   "execution_count": 19,
   "metadata": {},
   "outputs": [],
   "source": [
    "normal_vec,neg_d =  surface_equ_3d_jit(surfaces)"
   ]
  },
  {
   "cell_type": "code",
   "execution_count": 31,
   "metadata": {},
   "outputs": [],
   "source": [
    "import time"
   ]
  },
  {
   "cell_type": "code",
   "execution_count": 26,
   "metadata": {},
   "outputs": [
    {
     "data": {
      "text/plain": [
       "(108348, 4)"
      ]
     },
     "execution_count": 26,
     "metadata": {},
     "output_type": "execute_result"
    }
   ],
   "source": [
    "points.shape"
   ]
  },
  {
   "cell_type": "code",
   "execution_count": 51,
   "metadata": {},
   "outputs": [
    {
     "name": "stderr",
     "output_type": "stream",
     "text": [
      "<ipython-input-50-aaaeab05dc6d>:34: NumbaWarning: \u001b[1m\n",
      "Compilation is falling back to object mode WITH looplifting enabled because Function \"points_in_convex_polygon_3d_jit\" failed type inference due to: \u001b[1mUntyped global name 'surface_equ_3d_jit':\u001b[0m \u001b[1m\u001b[1mcannot determine Numba type of <class 'function'>\u001b[0m\n",
      "\u001b[1m\n",
      "File \"<ipython-input-50-aaaeab05dc6d>\", line 55:\u001b[0m\n",
      "\u001b[1mdef points_in_convex_polygon_3d_jit(points,\n",
      "    <source elided>\n",
      "        num_surfaces = np.full((num_polygons,), 9999999, dtype=np.int64)\n",
      "\u001b[1m    normal_vec, d = surface_equ_3d_jit(polygon_surfaces[:, :, :3, :])\n",
      "\u001b[0m    \u001b[1m^\u001b[0m\u001b[0m\n",
      "\u001b[0m\u001b[0m\n",
      "  @numba.jit(nopython=False)\n",
      "<ipython-input-50-aaaeab05dc6d>:34: NumbaWarning: \u001b[1m\n",
      "Compilation is falling back to object mode WITHOUT looplifting enabled because Function \"points_in_convex_polygon_3d_jit\" failed type inference due to: \u001b[1mUntyped global name 'surface_equ_3d_jit':\u001b[0m \u001b[1m\u001b[1mcannot determine Numba type of <class 'function'>\u001b[0m\n",
      "\u001b[1m\n",
      "File \"<ipython-input-50-aaaeab05dc6d>\", line 55:\u001b[0m\n",
      "\u001b[1mdef points_in_convex_polygon_3d_jit(points,\n",
      "    <source elided>\n",
      "        num_surfaces = np.full((num_polygons,), 9999999, dtype=np.int64)\n",
      "\u001b[1m    normal_vec, d = surface_equ_3d_jit(polygon_surfaces[:, :, :3, :])\n",
      "\u001b[0m    \u001b[1m^\u001b[0m\u001b[0m\n",
      "\u001b[0m\u001b[0m\n",
      "  @numba.jit(nopython=False)\n",
      "/home/hova/anaconda3/lib/python3.7/site-packages/numba/compiler.py:742: NumbaWarning: \u001b[1mFunction \"points_in_convex_polygon_3d_jit\" was compiled in object mode without forceobj=True, but has lifted loops.\n",
      "\u001b[1m\n",
      "File \"<ipython-input-50-aaaeab05dc6d>\", line 35:\u001b[0m\n",
      "\u001b[1m@numba.jit(nopython=False)\n",
      "\u001b[1mdef points_in_convex_polygon_3d_jit(points,\n",
      "\u001b[0m\u001b[1m^\u001b[0m\u001b[0m\n",
      "\u001b[0m\n",
      "  self.func_ir.loc))\n",
      "/home/hova/anaconda3/lib/python3.7/site-packages/numba/compiler.py:751: NumbaDeprecationWarning: \u001b[1m\n",
      "Fall-back from the nopython compilation path to the object mode compilation path has been detected, this is deprecated behaviour.\n",
      "\n",
      "For more information visit http://numba.pydata.org/numba-doc/latest/reference/deprecation.html#deprecation-of-object-mode-fall-back-behaviour-when-using-jit\n",
      "\u001b[1m\n",
      "File \"<ipython-input-50-aaaeab05dc6d>\", line 35:\u001b[0m\n",
      "\u001b[1m@numba.jit(nopython=False)\n",
      "\u001b[1mdef points_in_convex_polygon_3d_jit(points,\n",
      "\u001b[0m\u001b[1m^\u001b[0m\u001b[0m\n",
      "\u001b[0m\n",
      "  warnings.warn(errors.NumbaDeprecationWarning(msg, self.func_ir.loc))\n"
     ]
    },
    {
     "name": "stdout",
     "output_type": "stream",
     "text": [
      "0.6981499195098877\n"
     ]
    }
   ],
   "source": [
    "a = time.time()\n",
    "ret = points_in_convex_polygon_3d_jit(points,surfaces)\n",
    "b = time.time()-a\n",
    "print(b)"
   ]
  },
  {
   "cell_type": "code",
   "execution_count": 28,
   "metadata": {},
   "outputs": [
    {
     "data": {
      "text/plain": [
       "108348"
      ]
     },
     "execution_count": 28,
     "metadata": {},
     "output_type": "execute_result"
    }
   ],
   "source": [
    "len(ret)"
   ]
  },
  {
   "cell_type": "code",
   "execution_count": 96,
   "metadata": {},
   "outputs": [
    {
     "data": {
      "text/plain": [
       "3460"
      ]
     },
     "execution_count": 96,
     "metadata": {},
     "output_type": "execute_result"
    }
   ],
   "source": [
    "ret.sum(0).sum()"
   ]
  },
  {
   "cell_type": "code",
   "execution_count": 32,
   "metadata": {},
   "outputs": [
    {
     "data": {
      "text/plain": [
       "(108348, 5)"
      ]
     },
     "execution_count": 32,
     "metadata": {},
     "output_type": "execute_result"
    }
   ],
   "source": [
    "ret.shape"
   ]
  },
  {
   "cell_type": "code",
   "execution_count": 33,
   "metadata": {},
   "outputs": [
    {
     "data": {
      "text/plain": [
       "(108348, 4)"
      ]
     },
     "execution_count": 33,
     "metadata": {},
     "output_type": "execute_result"
    }
   ],
   "source": [
    "points.shape"
   ]
  },
  {
   "cell_type": "code",
   "execution_count": 41,
   "metadata": {},
   "outputs": [],
   "source": [
    "ret_4 = ret[:,np.newaxis*5,:]"
   ]
  },
  {
   "cell_type": "code",
   "execution_count": 35,
   "metadata": {},
   "outputs": [
    {
     "ename": "IndexError",
     "evalue": "boolean index did not match indexed array along dimension 1; dimension is 4 but corresponding boolean dimension is 5",
     "output_type": "error",
     "traceback": [
      "\u001b[0;31m---------------------------------------------------------------------------\u001b[0m",
      "\u001b[0;31mIndexError\u001b[0m                                Traceback (most recent call last)",
      "\u001b[0;32m<ipython-input-35-08a1e68bcf6f>\u001b[0m in \u001b[0;36m<module>\u001b[0;34m\u001b[0m\n\u001b[0;32m----> 1\u001b[0;31m \u001b[0mpoints\u001b[0m\u001b[0;34m[\u001b[0m\u001b[0mret\u001b[0m\u001b[0;34m]\u001b[0m\u001b[0;34m\u001b[0m\u001b[0;34m\u001b[0m\u001b[0m\n\u001b[0m",
      "\u001b[0;31mIndexError\u001b[0m: boolean index did not match indexed array along dimension 1; dimension is 4 but corresponding boolean dimension is 5"
     ]
    }
   ],
   "source": [
    "points[ret]"
   ]
  },
  {
   "cell_type": "code",
   "execution_count": 62,
   "metadata": {},
   "outputs": [
    {
     "data": {
      "text/plain": [
       "(108348, 5)"
      ]
     },
     "execution_count": 62,
     "metadata": {},
     "output_type": "execute_result"
    }
   ],
   "source": [
    "ret.shape"
   ]
  },
  {
   "cell_type": "code",
   "execution_count": 84,
   "metadata": {},
   "outputs": [],
   "source": [
    "obj = np.zeros((1,4))\n",
    "for i in range(5):\n",
    "    obj = np.concatenate((obj,points[ret[:,i]]))"
   ]
  },
  {
   "cell_type": "code",
   "execution_count": 87,
   "metadata": {},
   "outputs": [],
   "source": [
    "np.savetxt('obj.txt',obj[1:])"
   ]
  },
  {
   "cell_type": "code",
   "execution_count": 81,
   "metadata": {},
   "outputs": [
    {
     "data": {
      "text/plain": [
       "(216696, 5)"
      ]
     },
     "execution_count": 81,
     "metadata": {},
     "output_type": "execute_result"
    }
   ],
   "source": [
    "b.shape"
   ]
  },
  {
   "cell_type": "code",
   "execution_count": 75,
   "metadata": {},
   "outputs": [
    {
     "data": {
      "text/plain": [
       "(108348, 5)"
      ]
     },
     "execution_count": 75,
     "metadata": {},
     "output_type": "execute_result"
    }
   ],
   "source": [
    "ret.shape"
   ]
  },
  {
   "cell_type": "code",
   "execution_count": 88,
   "metadata": {},
   "outputs": [
    {
     "data": {
      "text/plain": [
       "(108348, 4)"
      ]
     },
     "execution_count": 88,
     "metadata": {},
     "output_type": "execute_result"
    }
   ],
   "source": [
    "points.shape"
   ]
  },
  {
   "cell_type": "code",
   "execution_count": 100,
   "metadata": {},
   "outputs": [],
   "source": [
    "pts = np.repeat(points,5,axis=0).reshape(-1,5,4)"
   ]
  },
  {
   "cell_type": "code",
   "execution_count": 92,
   "metadata": {},
   "outputs": [],
   "source": [
    "pts = pts.reshape(-1,5,4)"
   ]
  },
  {
   "cell_type": "code",
   "execution_count": 101,
   "metadata": {},
   "outputs": [],
   "source": [
    "a = pts[ret]"
   ]
  },
  {
   "cell_type": "code",
   "execution_count": 102,
   "metadata": {},
   "outputs": [
    {
     "data": {
      "text/plain": [
       "(3460, 4)"
      ]
     },
     "execution_count": 102,
     "metadata": {},
     "output_type": "execute_result"
    }
   ],
   "source": [
    "a.shape"
   ]
  },
  {
   "cell_type": "code",
   "execution_count": 103,
   "metadata": {},
   "outputs": [],
   "source": [
    "np.savetxt('a.txt',a)"
   ]
  },
  {
   "cell_type": "code",
   "execution_count": null,
   "metadata": {},
   "outputs": [],
   "source": []
  }
 ],
 "metadata": {
  "kernelspec": {
   "display_name": "Python 3.7.4 64-bit ('base': conda)",
   "language": "python",
   "name": "python37464bitbaseconda89fd59a57aa24aabb44662810809c441"
  },
  "language_info": {
   "codemirror_mode": {
    "name": "ipython",
    "version": 3
   },
   "file_extension": ".py",
   "mimetype": "text/x-python",
   "name": "python",
   "nbconvert_exporter": "python",
   "pygments_lexer": "ipython3",
   "version": "3.7.4"
  }
 },
 "nbformat": 4,
 "nbformat_minor": 2
}
